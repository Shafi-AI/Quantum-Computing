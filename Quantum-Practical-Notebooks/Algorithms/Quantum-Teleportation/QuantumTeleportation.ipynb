{
 "cells": [
  {
   "cell_type": "code",
   "execution_count": 1,
   "metadata": {},
   "outputs": [],
   "source": [
    "%matplotlib inline\n",
    "# Importing standard Qiskit libraries and configuring account\n",
    "from qiskit import QuantumCircuit, execute, Aer, IBMQ\n",
    "from qiskit.compiler import transpile, assemble\n",
    "from qiskit.tools.jupyter import *\n",
    "from qiskit.visualization import *\n",
    "# Loading your IBM Q account(s)\n",
    "provider = IBMQ.load_account()"
   ]
  },
  {
   "cell_type": "code",
   "execution_count": 2,
   "metadata": {},
   "outputs": [],
   "source": [
    "import numpy as np \n",
    "from qiskit import QuantumCircuit, QuantumRegister , ClassicalRegister, execute , BasicAer, IBMQ\n",
    "from qiskit.visualization import plot_histogram , plot_bloch_multivector \n",
    "\n"
   ]
  },
  {
   "cell_type": "code",
   "execution_count": 3,
   "metadata": {},
   "outputs": [],
   "source": [
    "qregister = QuantumRegister (3) # Protocol uses 3 qubits , 2 classical bits in 2 different registers. \n",
    "crz = ClassicalRegister(1)\n",
    "crx = ClassicalRegister(1)\n",
    "teleportation_circuit = QuantumCircuit(qregister, crz, crx)"
   ]
  },
  {
   "cell_type": "code",
   "execution_count": 7,
   "metadata": {},
   "outputs": [
    {
     "data": {
      "image/png": "[encoded data removed]",
      "text/plain": [
       "<Figure size 309.428x325.08 with 1 Axes>"
      ]
     },
     "execution_count": 7,
     "metadata": {},
     "output_type": "execute_result"
    }
   ],
   "source": [
    "# Step 1: Eve creates an entanged pair of qubits a and b \n",
    "def create_bell_pair(qc, a, b):\n",
    "    \"\"\"   Creates a bell pair in qc using Qubits a and b  \"\"\" \n",
    "    qc.h(a) # put Qubit a into state |+> \n",
    "    qc.cx(a,b) # CNOT with a as control and b as target\n",
    "    # Eve entangles qubits q1 and q2 , Lets apply this to our circuit\n",
    "\n",
    "create_bell_pair(teleportation_circuit, 1, 2)\n",
    "# View the circuit so far. \n",
    "teleportation_circuit.draw()"
   ]
  },
  {
   "cell_type": "code",
   "execution_count": 8,
   "metadata": {},
   "outputs": [],
   "source": [
    "# Alice owns q1 and Bob owns q2"
   ]
  },
  {
   "cell_type": "code",
   "execution_count": 10,
   "metadata": {},
   "outputs": [],
   "source": [
    "# Step 2:\n",
    "def alice_gates(qc, psi, a):\n",
    "    qc.cx(psi,a)\n",
    "    qc.h(psi)\n"
   ]
  },
  {
   "cell_type": "code",
   "execution_count": 11,
   "metadata": {},
   "outputs": [
    {
     "data": {
      "image/png": "[encoded data removed]",
      "text/plain": [
       "<Figure size 490.028x325.08 with 1 Axes>"
      ]
     },
     "execution_count": 11,
     "metadata": {},
     "output_type": "execute_result"
    }
   ],
   "source": [
    "# Let's apply this to circuit\n",
    "teleportation_circuit.barrier()\n",
    "alice_gates(teleportation_circuit,0,1)\n",
    "teleportation_circuit.draw()"
   ]
  },
  {
   "cell_type": "code",
   "execution_count": null,
   "metadata": {},
   "outputs": [],
   "source": []
  }
 ],
 "metadata": {
  "kernelspec": {
   "display_name": "Python 3",
   "language": "python",
   "name": "python3"
  },
  "language_info": {
   "codemirror_mode": {
    "name": "ipython",
    "version": 3
   },
   "file_extension": ".py",
   "mimetype": "text/x-python",
   "name": "python",
   "nbconvert_exporter": "python",
   "pygments_lexer": "ipython3",
   "version": "3.7.6"
  }
 },
 "nbformat": 4,
 "nbformat_minor": 4
}
